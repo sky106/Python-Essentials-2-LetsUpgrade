{
 "cells": [
  {
   "cell_type": "markdown",
   "metadata": {},
   "source": [
    "Name : Akash Arjun Sawant \n",
    "Clg : Shri Bhausaheb Vartak College\n",
    "Email ID : sawantakash106@gmail.com\n",
    "\n",
    "# Project 2 - Email Sending"
   ]
  },
  {
   "cell_type": "markdown",
   "metadata": {},
   "source": [
    "***Do the project - Email sending using python and upload it in Github"
   ]
  },
  {
   "cell_type": "code",
   "execution_count": 1,
   "metadata": {},
   "outputs": [
    {
     "name": "stdout",
     "output_type": "stream",
     "text": [
      "Collecting emails\n",
      "  Downloading emails-0.6-py2.py3-none-any.whl (56 kB)\n",
      "Collecting cssutils\n",
      "  Downloading cssutils-1.0.2-py3-none-any.whl (406 kB)\n",
      "Requirement already satisfied: chardet in c:\\users\\aakash\\anaconda3\\lib\\site-packages (from emails) (3.0.4)\n",
      "Requirement already satisfied: python-dateutil in c:\\users\\aakash\\anaconda3\\lib\\site-packages (from emails) (2.8.1)\n",
      "Requirement already satisfied: lxml in c:\\users\\aakash\\anaconda3\\lib\\site-packages (from emails) (4.5.0)\n",
      "Requirement already satisfied: requests in c:\\users\\aakash\\anaconda3\\lib\\site-packages (from emails) (2.22.0)\n",
      "Collecting premailer\n",
      "  Downloading premailer-3.7.0-py2.py3-none-any.whl (18 kB)\n",
      "Requirement already satisfied: six>=1.5 in c:\\users\\aakash\\anaconda3\\lib\\site-packages (from python-dateutil->emails) (1.14.0)\n",
      "Requirement already satisfied: idna<2.9,>=2.5 in c:\\users\\aakash\\anaconda3\\lib\\site-packages (from requests->emails) (2.8)\n",
      "Requirement already satisfied: certifi>=2017.4.17 in c:\\users\\aakash\\anaconda3\\lib\\site-packages (from requests->emails) (2019.11.28)\n",
      "Requirement already satisfied: urllib3!=1.25.0,!=1.25.1,<1.26,>=1.21.1 in c:\\users\\aakash\\anaconda3\\lib\\site-packages (from requests->emails) (1.25.8)\n",
      "Collecting cssselect\n",
      "  Downloading cssselect-1.1.0-py2.py3-none-any.whl (16 kB)\n",
      "Collecting cachetools\n",
      "  Downloading cachetools-4.2.0-py3-none-any.whl (12 kB)\n",
      "Installing collected packages: cssutils, cssselect, cachetools, premailer, emails\n",
      "Successfully installed cachetools-4.2.0 cssselect-1.1.0 cssutils-1.0.2 emails-0.6 premailer-3.7.0\n"
     ]
    }
   ],
   "source": [
    "!pip install emails"
   ]
  },
  {
   "cell_type": "code",
   "execution_count": 9,
   "metadata": {},
   "outputs": [],
   "source": [
    "import emails"
   ]
  },
  {
   "cell_type": "code",
   "execution_count": 19,
   "metadata": {},
   "outputs": [],
   "source": [
    "mail_via_python = message.send(to='sawant@gmail.com', \n",
    "                               smtp={'host': 'smtp.gmail.com', \n",
    "                                     'timeout': 5,\n",
    "                                    'port':587,\n",
    "                                    'user':'akash@gmail.com',\n",
    "                                    'password':'MyPassword',\n",
    "                                    'tls':True})"
   ]
  },
  {
   "cell_type": "code",
   "execution_count": 15,
   "metadata": {},
   "outputs": [
    {
     "data": {
      "text/plain": [
       "<emails.backend.SMTPResponse status_code=None status_text=None>"
      ]
     },
     "execution_count": 15,
     "metadata": {},
     "output_type": "execute_result"
    }
   ],
   "source": [
    "mail_via_python"
   ]
  },
  {
   "cell_type": "code",
   "execution_count": 20,
   "metadata": {},
   "outputs": [],
   "source": [
    "def sendMail(email, name):\n",
    "    \n",
    "    html_text = '''<p><span style=\"font-family: Courier New, courier;\"><span style=\"background-color: rgb(247, 218, 100);\">HEY ,'''+ name+'''</span>&nbsp;</span></p>\n",
    "                <p><span style=\"font-family: Courier New, courier;\"><br></span></p>\n",
    "                <p><span style=\"font-family: Courier New, courier;\">How are you this is Akash!!,&nbsp;</span></p>\n",
    "                <p><span style=\"font-family: Courier New, courier;\">Student at LetsUpgrade</span></p>\n",
    "                <p><span style=\"font-family: Courier New, courier;\">Did JS Essentials and MERN Stack course from here. Loved the way you people are providing awesome courses in such affordable cost&nbsp;</span></p>\n",
    "                <p><span style=\"font-family: Courier New, courier;\"><br></span></p>\n",
    "                <p><span style=\"font-family: Courier New, courier;\">Regards,&nbsp;</span></p>\n",
    "                <p><strong><span style=\"font-family: Courier New, courier;\">LetsUpgrade Student,</span></strong></p>\n",
    "                <p><span style=\"font-family: Courier New, courier;\"><strong>Akash Sawant</strong></span></p>'''\n",
    "\n",
    "    subject = \"Hey Rowdy \"+ name + \", you have EMAIL FROM LetsUpgrade\"\n",
    "    message = emails.html(html=html_text,\n",
    "                          subject=subject,\n",
    "                          mail_from=('Akash LetsUpgrade', 'akash@gmail.com'))\n",
    "\n",
    "    \n",
    "    mail_via_python = message.send(to=email, \n",
    "                               smtp={'host': 'smtp.gmail.com', \n",
    "                                     'timeout': 5,\n",
    "                                    'port':587,\n",
    "                                    'user':'akash@gmail.com',\n",
    "                                    'password':'MyPassword',\n",
    "                                    'tls':True})\n",
    "    return mail_via_python.status_code"
   ]
  },
  {
   "cell_type": "code",
   "execution_count": 21,
   "metadata": {},
   "outputs": [],
   "source": [
    "sendMail(\"sawant@gmail.com\",\"Akash\")"
   ]
  },
  {
   "cell_type": "code",
   "execution_count": null,
   "metadata": {},
   "outputs": [],
   "source": []
  }
 ],
 "metadata": {
  "kernelspec": {
   "display_name": "Python 3",
   "language": "python",
   "name": "python3"
  },
  "language_info": {
   "codemirror_mode": {
    "name": "ipython",
    "version": 3
   },
   "file_extension": ".py",
   "mimetype": "text/x-python",
   "name": "python",
   "nbconvert_exporter": "python",
   "pygments_lexer": "ipython3",
   "version": "3.7.6"
  }
 },
 "nbformat": 4,
 "nbformat_minor": 2
}
