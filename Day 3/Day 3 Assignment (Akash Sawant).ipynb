{
 "cells": [
  {
   "cell_type": "markdown",
   "metadata": {},
   "source": [
    "Name : Akash Arjun Sawant \n",
    "Clg : Shri Bhausaheb Vartak College\n",
    "Email ID : sawantakash106@gmail.com\n",
    "\n",
    "# Day 3 : Assignment"
   ]
  },
  {
   "cell_type": "markdown",
   "metadata": {},
   "source": [
    "# Question 1\n",
    "***Use IF ELSE and ELIF to write a program in python for your Report Cards."
   ]
  },
  {
   "cell_type": "code",
   "execution_count": 14,
   "metadata": {},
   "outputs": [
    {
     "name": "stdout",
     "output_type": "stream",
     "text": [
      "Enter your marks -> 78\n",
      "You have got Grade -> B\n"
     ]
    }
   ],
   "source": [
    "marks = int(input('Enter your marks -> '))\n",
    "\n",
    "if marks >= 80 :\n",
    "    print(\"You have got Grade -> A\")\n",
    "elif marks >= 60 and marks <80:\n",
    "    print(\"You have got Grade -> B\")\n",
    "elif marks >= 40 and marks < 60:\n",
    "    print(\"You have got Grade -> C\")\n",
    "elif marks >= 30 and marks < 40:\n",
    "    print(\"You have got Grade -> D\")\n",
    "else:\n",
    "    print( \"Failed \")"
   ]
  },
  {
   "cell_type": "markdown",
   "metadata": {},
   "source": [
    "# Question 2\n",
    "***Use For Loop to Print Prime Numbers in between 1 to 1000"
   ]
  },
  {
   "cell_type": "code",
   "execution_count": 4,
   "metadata": {},
   "outputs": [
    {
     "name": "stdout",
     "output_type": "stream",
     "text": [
      " 2   3   5   7   11   13   17   19   23   29   31   37   41   43   47   53   59   61   67   71   73   79   83   89   97   101   103   107   109   113   127   131   137   139   149   151   157   163   167   173   179   181   191   193   197   199   211   223   227   229   233   239   241   251   257   263   269   271   277   281   283   293   307   311   313   317   331   337   347   349   353   359   367   373   379   383   389   397   401   409   419   421   431   433   439   443   449   457   461   463   467   479   487   491   499   503   509   521   523   541   547   557   563   569   571   577   587   593   599   601   607   613   617   619   631   641   643   647   653   659   661   673   677   683   691   701   709   719   727   733   739   743   751   757   761   769   773   787   797   809   811   821   823   827   829   839   853   857   859   863   877   881   883   887   907   911   919   929   937   941   947   953   967   971   977   983   991   997  "
     ]
    }
   ],
   "source": [
    "Number = 1\n",
    "while(Number <= 1000):\n",
    "    count = 0\n",
    "    i = 2\n",
    "    \n",
    "    while(i <= Number//2):\n",
    "        if(Number % i == 0):\n",
    "            count = count + 1\n",
    "            break\n",
    "        i = i + 1\n",
    "\n",
    "    if (count == 0 and Number != 1):\n",
    "        print(\" %d\" %Number, end = '  ')\n",
    "    Number = Number  + 1"
   ]
  },
  {
   "cell_type": "markdown",
   "metadata": {},
   "source": [
    "# Question 3\n",
    "***Write a program for printing the tables from 1,10 using Nested For Loop"
   ]
  },
  {
   "cell_type": "code",
   "execution_count": 5,
   "metadata": {},
   "outputs": [
    {
     "name": "stdout",
     "output_type": "stream",
     "text": [
      "\n",
      "\n",
      "MULTIPLICATION TABLE FOR 1\n",
      "\n",
      "1     X     1 =     1\n",
      "1     X     2 =     2\n",
      "1     X     3 =     3\n",
      "1     X     4 =     4\n",
      "1     X     5 =     5\n",
      "1     X     6 =     6\n",
      "1     X     7 =     7\n",
      "1     X     8 =     8\n",
      "1     X     9 =     9\n",
      "1     X    10 =    10\n",
      "\n",
      "\n",
      "MULTIPLICATION TABLE FOR 2\n",
      "\n",
      "2     X     1 =     2\n",
      "2     X     2 =     4\n",
      "2     X     3 =     6\n",
      "2     X     4 =     8\n",
      "2     X     5 =    10\n",
      "2     X     6 =    12\n",
      "2     X     7 =    14\n",
      "2     X     8 =    16\n",
      "2     X     9 =    18\n",
      "2     X    10 =    20\n",
      "\n",
      "\n",
      "MULTIPLICATION TABLE FOR 3\n",
      "\n",
      "3     X     1 =     3\n",
      "3     X     2 =     6\n",
      "3     X     3 =     9\n",
      "3     X     4 =    12\n",
      "3     X     5 =    15\n",
      "3     X     6 =    18\n",
      "3     X     7 =    21\n",
      "3     X     8 =    24\n",
      "3     X     9 =    27\n",
      "3     X    10 =    30\n",
      "\n",
      "\n",
      "MULTIPLICATION TABLE FOR 4\n",
      "\n",
      "4     X     1 =     4\n",
      "4     X     2 =     8\n",
      "4     X     3 =    12\n",
      "4     X     4 =    16\n",
      "4     X     5 =    20\n",
      "4     X     6 =    24\n",
      "4     X     7 =    28\n",
      "4     X     8 =    32\n",
      "4     X     9 =    36\n",
      "4     X    10 =    40\n",
      "\n",
      "\n",
      "MULTIPLICATION TABLE FOR 5\n",
      "\n",
      "5     X     1 =     5\n",
      "5     X     2 =    10\n",
      "5     X     3 =    15\n",
      "5     X     4 =    20\n",
      "5     X     5 =    25\n",
      "5     X     6 =    30\n",
      "5     X     7 =    35\n",
      "5     X     8 =    40\n",
      "5     X     9 =    45\n",
      "5     X    10 =    50\n",
      "\n",
      "\n",
      "MULTIPLICATION TABLE FOR 6\n",
      "\n",
      "6     X     1 =     6\n",
      "6     X     2 =    12\n",
      "6     X     3 =    18\n",
      "6     X     4 =    24\n",
      "6     X     5 =    30\n",
      "6     X     6 =    36\n",
      "6     X     7 =    42\n",
      "6     X     8 =    48\n",
      "6     X     9 =    54\n",
      "6     X    10 =    60\n",
      "\n",
      "\n",
      "MULTIPLICATION TABLE FOR 7\n",
      "\n",
      "7     X     1 =     7\n",
      "7     X     2 =    14\n",
      "7     X     3 =    21\n",
      "7     X     4 =    28\n",
      "7     X     5 =    35\n",
      "7     X     6 =    42\n",
      "7     X     7 =    49\n",
      "7     X     8 =    56\n",
      "7     X     9 =    63\n",
      "7     X    10 =    70\n",
      "\n",
      "\n",
      "MULTIPLICATION TABLE FOR 8\n",
      "\n",
      "8     X     1 =     8\n",
      "8     X     2 =    16\n",
      "8     X     3 =    24\n",
      "8     X     4 =    32\n",
      "8     X     5 =    40\n",
      "8     X     6 =    48\n",
      "8     X     7 =    56\n",
      "8     X     8 =    64\n",
      "8     X     9 =    72\n",
      "8     X    10 =    80\n",
      "\n",
      "\n",
      "MULTIPLICATION TABLE FOR 9\n",
      "\n",
      "9     X     1 =     9\n",
      "9     X     2 =    18\n",
      "9     X     3 =    27\n",
      "9     X     4 =    36\n",
      "9     X     5 =    45\n",
      "9     X     6 =    54\n",
      "9     X     7 =    63\n",
      "9     X     8 =    72\n",
      "9     X     9 =    81\n",
      "9     X    10 =    90\n",
      "\n",
      "\n",
      "MULTIPLICATION TABLE FOR 10\n",
      "\n",
      "10    X     1 =    10\n",
      "10    X     2 =    20\n",
      "10    X     3 =    30\n",
      "10    X     4 =    40\n",
      "10    X     5 =    50\n",
      "10    X     6 =    60\n",
      "10    X     7 =    70\n",
      "10    X     8 =    80\n",
      "10    X     9 =    90\n",
      "10    X    10 =   100\n"
     ]
    }
   ],
   "source": [
    "for i in range(1,11):\n",
    "    print(\"\\n\\nMULTIPLICATION TABLE FOR %d\\n\" %(i))\n",
    "    for j in range(1,11):\n",
    "        print(\"%-5d X %5d = %5d\" % (i, j, i*j))"
   ]
  },
  {
   "cell_type": "markdown",
   "metadata": {},
   "source": [
    "# Question 4\n",
    "***Write a program to Print X Prime Numbers using While Loop starting from 0, and take the INput of X from\n",
    "the user"
   ]
  },
  {
   "cell_type": "code",
   "execution_count": 12,
   "metadata": {},
   "outputs": [
    {
     "name": "stdout",
     "output_type": "stream",
     "text": [
      "Enter the Second Number:13\n",
      "prime numbers till 13\n",
      "1\n",
      "2\n",
      "3\n",
      "4\n",
      "5\n",
      "7\n",
      "11\n",
      "13\n"
     ]
    }
   ],
   "source": [
    "second = int(input(\"Enter the Second Number:\"))\n",
    "print(\"prime numbers till\",second)\n",
    "for i in range(1, second+1):\n",
    "    for j in range(2, i//2):\n",
    "        if i % j == 0:\n",
    "            break\n",
    "    else:\n",
    "        print(i)"
   ]
  }
 ],
 "metadata": {
  "kernelspec": {
   "display_name": "Python 3",
   "language": "python",
   "name": "python3"
  },
  "language_info": {
   "codemirror_mode": {
    "name": "ipython",
    "version": 3
   },
   "file_extension": ".py",
   "mimetype": "text/x-python",
   "name": "python",
   "nbconvert_exporter": "python",
   "pygments_lexer": "ipython3",
   "version": "3.7.6"
  }
 },
 "nbformat": 4,
 "nbformat_minor": 2
}
