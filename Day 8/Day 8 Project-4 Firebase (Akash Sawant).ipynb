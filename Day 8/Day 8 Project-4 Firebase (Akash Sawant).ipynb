{
 "cells": [
  {
   "cell_type": "markdown",
   "metadata": {},
   "source": [
    "Name : Akash Arjun Sawant \n",
    "Clg : Shri Bhausaheb Vartak College\n",
    "Email ID : sawantakash106@gmail.com\n",
    "\n",
    "# Project 4 - Firebase"
   ]
  },
  {
   "cell_type": "markdown",
   "metadata": {},
   "source": [
    "***Do the project as taught by sir - Read and write to a real time database to a server using firebase\n",
    "and upload it in Github."
   ]
  },
  {
   "cell_type": "code",
   "execution_count": 1,
   "metadata": {},
   "outputs": [
    {
     "name": "stdout",
     "output_type": "stream",
     "text": [
      "Collecting firebase_admin\n",
      "  Using cached https://files.pythonhosted.org/packages/b7/37/87627fae654fad3f3a3a06db051900dc93e99cf1f0e1989c1ced90422cd6/firebase_admin-4.5.0-py3-none-any.whl\n",
      "Collecting google-api-core[grpc]<2.0.0dev,>=1.14.0; platform_python_implementation != \"PyPy\" (from firebase_admin)\n",
      "  Using cached https://files.pythonhosted.org/packages/0f/a4/bbaf2e49d2ddeba5f9532682838775cb63f23ca69594294fa9f717b64c8a/google_api_core-1.24.1-py2.py3-none-any.whl\n",
      "Collecting google-cloud-firestore>=1.4.0; platform_python_implementation != \"PyPy\" (from firebase_admin)\n",
      "  Using cached https://files.pythonhosted.org/packages/cc/f3/7d0d9c6ddf9dfefc41934e4dc40894a68047b7efcb52aaa921887069c411/google_cloud_firestore-2.0.2-py2.py3-none-any.whl\n",
      "Collecting google-cloud-storage>=1.18.0 (from firebase_admin)\n",
      "  Using cached https://files.pythonhosted.org/packages/a5/6e/b5b745dc1eb31d1ce50df25200b9f74ef36f57f9d226018bcb48e664c728/google_cloud_storage-1.35.0-py2.py3-none-any.whl\n",
      "Collecting cachecontrol>=0.12.6 (from firebase_admin)\n",
      "  Using cached https://files.pythonhosted.org/packages/18/71/0a9df4206a5dc5ae7609c41efddab2270a2c1ff61d39de7591dc7302ef89/CacheControl-0.12.6-py2.py3-none-any.whl\n",
      "Collecting google-api-python-client>=1.7.8 (from firebase_admin)\n",
      "  Using cached https://files.pythonhosted.org/packages/83/fc/98045b8c5e0ba12929d423e9ff6b742951bb846707539b18f19b27c6ddc3/google_api_python_client-1.12.8-py2.py3-none-any.whl\n",
      "Collecting six>=1.13.0 (from google-api-core[grpc]<2.0.0dev,>=1.14.0; platform_python_implementation != \"PyPy\"->firebase_admin)\n",
      "  Using cached https://files.pythonhosted.org/packages/ee/ff/48bde5c0f013094d729fe4b0316ba2a24774b3ff1c52d924a8a4cb04078a/six-1.15.0-py2.py3-none-any.whl\n",
      "Collecting googleapis-common-protos<2.0dev,>=1.6.0 (from google-api-core[grpc]<2.0.0dev,>=1.14.0; platform_python_implementation != \"PyPy\"->firebase_admin)\n",
      "  Using cached https://files.pythonhosted.org/packages/03/74/3956721ea1eb4bcf7502a311fdaa60b85bd751de4e57d1943afe9b334141/googleapis_common_protos-1.52.0-py2.py3-none-any.whl\n",
      "Collecting google-auth<2.0dev,>=1.21.1 (from google-api-core[grpc]<2.0.0dev,>=1.14.0; platform_python_implementation != \"PyPy\"->firebase_admin)\n",
      "  Using cached https://files.pythonhosted.org/packages/3e/fd/df1b3a59aca9537a187413651ad63b290d165559150a868a298fa837fe7b/google_auth-1.24.0-py2.py3-none-any.whl\n",
      "Collecting protobuf>=3.12.0 (from google-api-core[grpc]<2.0.0dev,>=1.14.0; platform_python_implementation != \"PyPy\"->firebase_admin)\n",
      "  Using cached https://files.pythonhosted.org/packages/1d/f4/089025cfa3ee62f89cae73f4d36daf46f339c6df61becfe4b24f3aeb3c0d/protobuf-3.14.0-cp37-cp37m-win_amd64.whl\n",
      "Requirement already satisfied: pytz in d:\\anaconda\\lib\\site-packages (from google-api-core[grpc]<2.0.0dev,>=1.14.0; platform_python_implementation != \"PyPy\"->firebase_admin) (2018.9)\n",
      "Requirement already satisfied: setuptools>=34.0.0 in d:\\anaconda\\lib\\site-packages (from google-api-core[grpc]<2.0.0dev,>=1.14.0; platform_python_implementation != \"PyPy\"->firebase_admin) (40.8.0)\n",
      "Requirement already satisfied: requests<3.0.0dev,>=2.18.0 in d:\\anaconda\\lib\\site-packages (from google-api-core[grpc]<2.0.0dev,>=1.14.0; platform_python_implementation != \"PyPy\"->firebase_admin) (2.21.0)\n",
      "Collecting grpcio<2.0dev,>=1.29.0; extra == \"grpc\" (from google-api-core[grpc]<2.0.0dev,>=1.14.0; platform_python_implementation != \"PyPy\"->firebase_admin)\n",
      "  Using cached https://files.pythonhosted.org/packages/4a/e3/5568a6987645599579667f34606f098bb9be9c7709567eaeb62009da9b52/grpcio-1.34.0-cp37-cp37m-win_amd64.whl\n",
      "Collecting google-cloud-core<2.0dev,>=1.4.1 (from google-cloud-firestore>=1.4.0; platform_python_implementation != \"PyPy\"->firebase_admin)\n",
      "  Using cached https://files.pythonhosted.org/packages/36/82/d54bdbdbae02c66ec26c97eb684cfb27af82b3e286497625b815c4741792/google_cloud_core-1.5.0-py2.py3-none-any.whl\n",
      "Collecting proto-plus>=1.3.0 (from google-cloud-firestore>=1.4.0; platform_python_implementation != \"PyPy\"->firebase_admin)\n",
      "Collecting google-resumable-media<2.0dev,>=1.2.0 (from google-cloud-storage>=1.18.0->firebase_admin)\n",
      "  Using cached https://files.pythonhosted.org/packages/22/52/4b086e0d15245b648e2b6d408fb2f2974a3a5a405de5d7fae25cd085a3fa/google_resumable_media-1.2.0-py2.py3-none-any.whl\n",
      "Requirement already satisfied: msgpack>=0.5.2 in d:\\anaconda\\lib\\site-packages (from cachecontrol>=0.12.6->firebase_admin) (0.6.1)\n",
      "Collecting httplib2<1dev,>=0.15.0 (from google-api-python-client>=1.7.8->firebase_admin)\n",
      "  Using cached https://files.pythonhosted.org/packages/b3/ad/d9d9331850ea5bd4f5cb8c650c0bfa119a4abd6b0ad7c45b6506bc979fc0/httplib2-0.18.1-py3-none-any.whl\n",
      "Collecting google-auth-httplib2>=0.0.3 (from google-api-python-client>=1.7.8->firebase_admin)\n",
      "  Using cached https://files.pythonhosted.org/packages/bd/4e/992849016f8b0c27fb604aafd0a7a724db16128906197bd1245c6f18e6a1/google_auth_httplib2-0.0.4-py2.py3-none-any.whl\n",
      "Collecting uritemplate<4dev,>=3.0.0 (from google-api-python-client>=1.7.8->firebase_admin)\n",
      "  Using cached https://files.pythonhosted.org/packages/bf/0c/60d82c077998feb631608dca3cc1fe19ac074e772bf0c24cf409b977b815/uritemplate-3.0.1-py2.py3-none-any.whl\n",
      "Requirement already satisfied: rsa<5,>=3.1.4; python_version >= \"3.6\" in d:\\anaconda\\lib\\site-packages (from google-auth<2.0dev,>=1.21.1->google-api-core[grpc]<2.0.0dev,>=1.14.0; platform_python_implementation != \"PyPy\"->firebase_admin) (4.6)\n",
      "Requirement already satisfied: cachetools<5.0,>=2.0.0 in d:\\anaconda\\lib\\site-packages (from google-auth<2.0dev,>=1.21.1->google-api-core[grpc]<2.0.0dev,>=1.14.0; platform_python_implementation != \"PyPy\"->firebase_admin) (4.2.0)\n",
      "Requirement already satisfied: pyasn1-modules>=0.2.1 in d:\\anaconda\\lib\\site-packages (from google-auth<2.0dev,>=1.21.1->google-api-core[grpc]<2.0.0dev,>=1.14.0; platform_python_implementation != \"PyPy\"->firebase_admin) (0.2.8)\n",
      "Requirement already satisfied: urllib3<1.25,>=1.21.1 in d:\\anaconda\\lib\\site-packages (from requests<3.0.0dev,>=2.18.0->google-api-core[grpc]<2.0.0dev,>=1.14.0; platform_python_implementation != \"PyPy\"->firebase_admin) (1.24.1)\n",
      "Requirement already satisfied: chardet<3.1.0,>=3.0.2 in d:\\anaconda\\lib\\site-packages (from requests<3.0.0dev,>=2.18.0->google-api-core[grpc]<2.0.0dev,>=1.14.0; platform_python_implementation != \"PyPy\"->firebase_admin) (3.0.4)\n",
      "Requirement already satisfied: certifi>=2017.4.17 in d:\\anaconda\\lib\\site-packages (from requests<3.0.0dev,>=2.18.0->google-api-core[grpc]<2.0.0dev,>=1.14.0; platform_python_implementation != \"PyPy\"->firebase_admin) (2018.4.16)\n",
      "Requirement already satisfied: idna<2.9,>=2.5 in d:\\anaconda\\lib\\site-packages (from requests<3.0.0dev,>=2.18.0->google-api-core[grpc]<2.0.0dev,>=1.14.0; platform_python_implementation != \"PyPy\"->firebase_admin) (2.8)\n",
      "Collecting google-crc32c<2.0dev,>=1.0; python_version >= \"3.5\" (from google-resumable-media<2.0dev,>=1.2.0->google-cloud-storage>=1.18.0->firebase_admin)\n",
      "  Using cached https://files.pythonhosted.org/packages/76/27/04949e880dce5f1a860dc6d5cb6c72b74170261054fc1b05a8f096dbd6a1/google_crc32c-1.1.0-cp37-cp37m-win_amd64.whl\n",
      "Requirement already satisfied: pyasn1>=0.1.3 in d:\\anaconda\\lib\\site-packages (from rsa<5,>=3.1.4; python_version >= \"3.6\"->google-auth<2.0dev,>=1.21.1->google-api-core[grpc]<2.0.0dev,>=1.14.0; platform_python_implementation != \"PyPy\"->firebase_admin) (0.4.8)\n",
      "Requirement already satisfied: cffi>=1.0.0 in d:\\anaconda\\lib\\site-packages (from google-crc32c<2.0dev,>=1.0; python_version >= \"3.5\"->google-resumable-media<2.0dev,>=1.2.0->google-cloud-storage>=1.18.0->firebase_admin) (1.12.2)\n",
      "Requirement already satisfied: pycparser in d:\\anaconda\\lib\\site-packages (from cffi>=1.0.0->google-crc32c<2.0dev,>=1.0; python_version >= \"3.5\"->google-resumable-media<2.0dev,>=1.2.0->google-cloud-storage>=1.18.0->firebase_admin) (2.19)\n",
      "Installing collected packages: six, protobuf, googleapis-common-protos, google-auth, grpcio, google-api-core, google-cloud-core, proto-plus, google-cloud-firestore, google-crc32c, google-resumable-media, google-cloud-storage, cachecontrol, httplib2, google-auth-httplib2, uritemplate, google-api-python-client, firebase-admin\n",
      "  Found existing installation: six 1.12.0\n",
      "    Uninstalling six-1.12.0:\n"
     ]
    },
    {
     "name": "stderr",
     "output_type": "stream",
     "text": [
      "astroid 2.2.5 requires typed-ast>=1.3.0; implementation_name == \"cpython\", which is not installed.\n",
      "Could not install packages due to an EnvironmentError: [WinError 5] Access is denied: 'd:\\\\anaconda\\\\lib\\\\site-packages\\\\__pycache__\\\\six.cpython-37.pyc'\n",
      "Consider using the `--user` option or check the permissions.\n",
      "\n"
     ]
    }
   ],
   "source": [
    "!pip install firebase_admin"
   ]
  },
  {
   "cell_type": "code",
   "execution_count": 2,
   "metadata": {},
   "outputs": [
    {
     "name": "stdout",
     "output_type": "stream",
     "text": [
      "Collecting cpython\n",
      "  Downloading https://files.pythonhosted.org/packages/91/80/d01f39dd8e742d4548e497a28f70a5c556f7803f80598520f7f31096132a/cPython-0.0.6.tar.gz\n",
      "Collecting pymongo (from cpython)\n",
      "  Downloading https://files.pythonhosted.org/packages/f8/80/fbe067aff961662cd3e569bcd2cacd02d7b609f6ebe64075b65e5cfce0a9/pymongo-3.11.2-cp37-cp37m-win_amd64.whl (382kB)\n",
      "Requirement already satisfied: requests in d:\\anaconda\\lib\\site-packages (from cpython) (2.21.0)\n",
      "Requirement already satisfied: chardet<3.1.0,>=3.0.2 in d:\\anaconda\\lib\\site-packages (from requests->cpython) (3.0.4)\n",
      "Requirement already satisfied: certifi>=2017.4.17 in d:\\anaconda\\lib\\site-packages (from requests->cpython) (2018.4.16)\n",
      "Requirement already satisfied: idna<2.9,>=2.5 in d:\\anaconda\\lib\\site-packages (from requests->cpython) (2.8)\n",
      "Requirement already satisfied: urllib3<1.25,>=1.21.1 in d:\\anaconda\\lib\\site-packages (from requests->cpython) (1.24.1)\n",
      "Building wheels for collected packages: cpython\n",
      "  Building wheel for cpython (setup.py): started\n",
      "  Building wheel for cpython (setup.py): finished with status 'done'\n",
      "  Stored in directory: C:\\Users\\DVM\\AppData\\Local\\pip\\Cache\\wheels\\96\\a8\\ca\\1e4bbac2c17f655877b9abcb468bc67fb14ce349da01e48372\n",
      "Successfully built cpython\n",
      "Installing collected packages: pymongo, cpython\n",
      "Successfully installed cpython-0.0.6 pymongo-3.11.2\n"
     ]
    }
   ],
   "source": [
    "!pip install cpython"
   ]
  },
  {
   "cell_type": "code",
   "execution_count": 3,
   "metadata": {},
   "outputs": [
    {
     "name": "stdout",
     "output_type": "stream",
     "text": [
      "Collecting firebase_admin\n",
      "  Using cached https://files.pythonhosted.org/packages/b7/37/87627fae654fad3f3a3a06db051900dc93e99cf1f0e1989c1ced90422cd6/firebase_admin-4.5.0-py3-none-any.whl\n",
      "Collecting google-api-python-client>=1.7.8 (from firebase_admin)\n",
      "  Using cached https://files.pythonhosted.org/packages/83/fc/98045b8c5e0ba12929d423e9ff6b742951bb846707539b18f19b27c6ddc3/google_api_python_client-1.12.8-py2.py3-none-any.whl\n",
      "Collecting google-cloud-storage>=1.18.0 (from firebase_admin)\n",
      "  Using cached https://files.pythonhosted.org/packages/a5/6e/b5b745dc1eb31d1ce50df25200b9f74ef36f57f9d226018bcb48e664c728/google_cloud_storage-1.35.0-py2.py3-none-any.whl\n",
      "Collecting google-api-core[grpc]<2.0.0dev,>=1.14.0; platform_python_implementation != \"PyPy\" (from firebase_admin)\n",
      "  Using cached https://files.pythonhosted.org/packages/0f/a4/bbaf2e49d2ddeba5f9532682838775cb63f23ca69594294fa9f717b64c8a/google_api_core-1.24.1-py2.py3-none-any.whl\n",
      "Collecting google-cloud-firestore>=1.4.0; platform_python_implementation != \"PyPy\" (from firebase_admin)\n",
      "  Using cached https://files.pythonhosted.org/packages/cc/f3/7d0d9c6ddf9dfefc41934e4dc40894a68047b7efcb52aaa921887069c411/google_cloud_firestore-2.0.2-py2.py3-none-any.whl\n",
      "Collecting cachecontrol>=0.12.6 (from firebase_admin)\n",
      "  Using cached https://files.pythonhosted.org/packages/18/71/0a9df4206a5dc5ae7609c41efddab2270a2c1ff61d39de7591dc7302ef89/CacheControl-0.12.6-py2.py3-none-any.whl\n",
      "Collecting google-auth-httplib2>=0.0.3 (from google-api-python-client>=1.7.8->firebase_admin)\n",
      "  Using cached https://files.pythonhosted.org/packages/bd/4e/992849016f8b0c27fb604aafd0a7a724db16128906197bd1245c6f18e6a1/google_auth_httplib2-0.0.4-py2.py3-none-any.whl\n",
      "Collecting six<2dev,>=1.13.0 (from google-api-python-client>=1.7.8->firebase_admin)\n",
      "  Using cached https://files.pythonhosted.org/packages/ee/ff/48bde5c0f013094d729fe4b0316ba2a24774b3ff1c52d924a8a4cb04078a/six-1.15.0-py2.py3-none-any.whl\n",
      "Collecting httplib2<1dev,>=0.15.0 (from google-api-python-client>=1.7.8->firebase_admin)\n",
      "  Using cached https://files.pythonhosted.org/packages/b3/ad/d9d9331850ea5bd4f5cb8c650c0bfa119a4abd6b0ad7c45b6506bc979fc0/httplib2-0.18.1-py3-none-any.whl\n",
      "Collecting google-auth>=1.16.0 (from google-api-python-client>=1.7.8->firebase_admin)\n",
      "  Using cached https://files.pythonhosted.org/packages/3e/fd/df1b3a59aca9537a187413651ad63b290d165559150a868a298fa837fe7b/google_auth-1.24.0-py2.py3-none-any.whl\n",
      "Collecting uritemplate<4dev,>=3.0.0 (from google-api-python-client>=1.7.8->firebase_admin)\n",
      "  Using cached https://files.pythonhosted.org/packages/bf/0c/60d82c077998feb631608dca3cc1fe19ac074e772bf0c24cf409b977b815/uritemplate-3.0.1-py2.py3-none-any.whl\n",
      "Requirement already satisfied: requests<3.0.0dev,>=2.18.0 in d:\\anaconda\\lib\\site-packages (from google-cloud-storage>=1.18.0->firebase_admin) (2.21.0)\n",
      "Collecting google-cloud-core<2.0dev,>=1.4.1 (from google-cloud-storage>=1.18.0->firebase_admin)\n",
      "  Using cached https://files.pythonhosted.org/packages/36/82/d54bdbdbae02c66ec26c97eb684cfb27af82b3e286497625b815c4741792/google_cloud_core-1.5.0-py2.py3-none-any.whl\n",
      "Collecting google-resumable-media<2.0dev,>=1.2.0 (from google-cloud-storage>=1.18.0->firebase_admin)\n",
      "  Using cached https://files.pythonhosted.org/packages/22/52/4b086e0d15245b648e2b6d408fb2f2974a3a5a405de5d7fae25cd085a3fa/google_resumable_media-1.2.0-py2.py3-none-any.whl\n",
      "Collecting googleapis-common-protos<2.0dev,>=1.6.0 (from google-api-core[grpc]<2.0.0dev,>=1.14.0; platform_python_implementation != \"PyPy\"->firebase_admin)\n",
      "  Using cached https://files.pythonhosted.org/packages/03/74/3956721ea1eb4bcf7502a311fdaa60b85bd751de4e57d1943afe9b334141/googleapis_common_protos-1.52.0-py2.py3-none-any.whl\n",
      "Collecting protobuf>=3.12.0 (from google-api-core[grpc]<2.0.0dev,>=1.14.0; platform_python_implementation != \"PyPy\"->firebase_admin)\n",
      "  Using cached https://files.pythonhosted.org/packages/1d/f4/089025cfa3ee62f89cae73f4d36daf46f339c6df61becfe4b24f3aeb3c0d/protobuf-3.14.0-cp37-cp37m-win_amd64.whl\n",
      "Requirement already satisfied: setuptools>=34.0.0 in d:\\anaconda\\lib\\site-packages (from google-api-core[grpc]<2.0.0dev,>=1.14.0; platform_python_implementation != \"PyPy\"->firebase_admin) (40.8.0)\n",
      "Requirement already satisfied: pytz in d:\\anaconda\\lib\\site-packages (from google-api-core[grpc]<2.0.0dev,>=1.14.0; platform_python_implementation != \"PyPy\"->firebase_admin) (2018.9)\n",
      "Collecting grpcio<2.0dev,>=1.29.0; extra == \"grpc\" (from google-api-core[grpc]<2.0.0dev,>=1.14.0; platform_python_implementation != \"PyPy\"->firebase_admin)\n",
      "  Using cached https://files.pythonhosted.org/packages/4a/e3/5568a6987645599579667f34606f098bb9be9c7709567eaeb62009da9b52/grpcio-1.34.0-cp37-cp37m-win_amd64.whl\n",
      "Collecting proto-plus>=1.3.0 (from google-cloud-firestore>=1.4.0; platform_python_implementation != \"PyPy\"->firebase_admin)\n",
      "Requirement already satisfied: msgpack>=0.5.2 in d:\\anaconda\\lib\\site-packages (from cachecontrol>=0.12.6->firebase_admin) (0.6.1)\n",
      "Requirement already satisfied: rsa<5,>=3.1.4; python_version >= \"3.6\" in d:\\anaconda\\lib\\site-packages (from google-auth>=1.16.0->google-api-python-client>=1.7.8->firebase_admin) (4.6)\n",
      "Requirement already satisfied: pyasn1-modules>=0.2.1 in d:\\anaconda\\lib\\site-packages (from google-auth>=1.16.0->google-api-python-client>=1.7.8->firebase_admin) (0.2.8)\n",
      "Requirement already satisfied: cachetools<5.0,>=2.0.0 in d:\\anaconda\\lib\\site-packages (from google-auth>=1.16.0->google-api-python-client>=1.7.8->firebase_admin) (4.2.0)\n",
      "Requirement already satisfied: chardet<3.1.0,>=3.0.2 in d:\\anaconda\\lib\\site-packages (from requests<3.0.0dev,>=2.18.0->google-cloud-storage>=1.18.0->firebase_admin) (3.0.4)\n",
      "Requirement already satisfied: urllib3<1.25,>=1.21.1 in d:\\anaconda\\lib\\site-packages (from requests<3.0.0dev,>=2.18.0->google-cloud-storage>=1.18.0->firebase_admin) (1.24.1)\n",
      "Requirement already satisfied: idna<2.9,>=2.5 in d:\\anaconda\\lib\\site-packages (from requests<3.0.0dev,>=2.18.0->google-cloud-storage>=1.18.0->firebase_admin) (2.8)\n",
      "Requirement already satisfied: certifi>=2017.4.17 in d:\\anaconda\\lib\\site-packages (from requests<3.0.0dev,>=2.18.0->google-cloud-storage>=1.18.0->firebase_admin) (2018.4.16)\n",
      "Collecting google-crc32c<2.0dev,>=1.0; python_version >= \"3.5\" (from google-resumable-media<2.0dev,>=1.2.0->google-cloud-storage>=1.18.0->firebase_admin)\n",
      "  Using cached https://files.pythonhosted.org/packages/76/27/04949e880dce5f1a860dc6d5cb6c72b74170261054fc1b05a8f096dbd6a1/google_crc32c-1.1.0-cp37-cp37m-win_amd64.whl\n",
      "Requirement already satisfied: pyasn1>=0.1.3 in d:\\anaconda\\lib\\site-packages (from rsa<5,>=3.1.4; python_version >= \"3.6\"->google-auth>=1.16.0->google-api-python-client>=1.7.8->firebase_admin) (0.4.8)\n",
      "Requirement already satisfied: cffi>=1.0.0 in d:\\anaconda\\lib\\site-packages (from google-crc32c<2.0dev,>=1.0; python_version >= \"3.5\"->google-resumable-media<2.0dev,>=1.2.0->google-cloud-storage>=1.18.0->firebase_admin) (1.12.2)\n",
      "Requirement already satisfied: pycparser in d:\\anaconda\\lib\\site-packages (from cffi>=1.0.0->google-crc32c<2.0dev,>=1.0; python_version >= \"3.5\"->google-resumable-media<2.0dev,>=1.2.0->google-cloud-storage>=1.18.0->firebase_admin) (2.19)\n",
      "Installing collected packages: six, google-auth, httplib2, google-auth-httplib2, uritemplate, protobuf, googleapis-common-protos, grpcio, google-api-core, google-api-python-client, google-cloud-core, google-crc32c, google-resumable-media, google-cloud-storage, proto-plus, google-cloud-firestore, cachecontrol, firebase-admin\n",
      "  Found existing installation: protobuf 3.11.4\n",
      "    Uninstalling protobuf-3.11.4:\n",
      "      Successfully uninstalled protobuf-3.11.4\n",
      "  Found existing installation: grpcio 1.23.0\n",
      "    Uninstalling grpcio-1.23.0:\n",
      "      Successfully uninstalled grpcio-1.23.0\n",
      "Successfully installed cachecontrol-0.12.6 firebase-admin-4.5.0 google-api-core-1.24.1 google-api-python-client-1.12.8 google-auth-1.24.0 google-auth-httplib2-0.0.4 google-cloud-core-1.5.0 google-cloud-firestore-2.0.2 google-cloud-storage-1.35.0 google-crc32c-1.1.0 google-resumable-media-1.2.0 googleapis-common-protos-1.52.0 grpcio-1.34.0 httplib2-0.18.1 proto-plus-1.13.0 protobuf-3.14.0 six-1.15.0 uritemplate-3.0.1\n"
     ]
    },
    {
     "name": "stderr",
     "output_type": "stream",
     "text": [
      "astroid 2.2.5 requires typed-ast>=1.3.0; implementation_name == \"cpython\", which is not installed.\n"
     ]
    }
   ],
   "source": [
    "!pip install firebase_admin"
   ]
  },
  {
   "cell_type": "code",
   "execution_count": 4,
   "metadata": {},
   "outputs": [],
   "source": [
    "import firebase_admin"
   ]
  },
  {
   "cell_type": "code",
   "execution_count": 5,
   "metadata": {},
   "outputs": [],
   "source": [
    "from firebase_admin import credentials\n",
    "from firebase_admin import firestore"
   ]
  },
  {
   "cell_type": "code",
   "execution_count": null,
   "metadata": {},
   "outputs": [],
   "source": [
    "cred = credentials.Certificate(\"C:\\\\Users\\\\DVM\\Desktop\\\\ai-ml\\\\python essentials\\\\Day 8 assignment project\\\\python-project-d38ce-firebase-adminsdk-n6mk5-c49d5742aa.json\")\n",
    "firebase_admin.initialize_app(cred)"
   ]
  },
  {
   "cell_type": "markdown",
   "metadata": {},
   "source": [
    "<firebase_admin.App at 0x17c115bef98>"
   ]
  },
  {
   "cell_type": "code",
   "execution_count": 14,
   "metadata": {},
   "outputs": [],
   "source": [
    "db = firestore.client()"
   ]
  },
  {
   "cell_type": "code",
   "execution_count": 56,
   "metadata": {},
   "outputs": [],
   "source": [
    "doc_ref = db.collection(u'users').document(u'abc')\n",
    "\n",
    "def enterDataInDB(name,lastname,age):\n",
    "    name = input(\"Enter Name - \")\n",
    "    lastName = input(\"Enter Last Name - \")\n",
    "    age = int(input(\"Enter Age - \"))\n",
    "    \n",
    "    dit = {}\n",
    "    dit[\"firstName\"] = name\n",
    "    dit[\"lastName\"] = lastName\n",
    "    dit[\"age\"] = age\n",
    "    \n",
    "    doc_ref.set(dit)\n",
    "    "
   ]
  },
  {
   "cell_type": "code",
   "execution_count": 59,
   "metadata": {},
   "outputs": [],
   "source": [
    "def enterDataInDB(name,lastname,age):\n",
    "    doc_ref = db.collection(u'LetsUpgradeUsers').document()\n",
    "    \n",
    "    name = input(\"Enter Name - \")\n",
    "    lastName = input(\"Enter Last Name - \")\n",
    "    age = int(input(\"Enter Age - \"))\n",
    "    \n",
    "    dit = {}\n",
    "    dit[\"firstName\"] = name\n",
    "    dit[\"lastName\"] = lastName\n",
    "    dit[\"age\"] = age\n",
    "    \n",
    "    doc_ref.set(dit)\n",
    "    "
   ]
  },
  {
   "cell_type": "code",
   "execution_count": 60,
   "metadata": {},
   "outputs": [
    {
     "name": "stdout",
     "output_type": "stream",
     "text": [
      "Enter Name - sai\n",
      "Enter Last Name - lu\n",
      "Enter Age - 90\n"
     ]
    }
   ],
   "source": [
    "enterDataInDB(\"sai\",\"lu\",90)"
   ]
  },
  {
   "cell_type": "code",
   "execution_count": 45,
   "metadata": {},
   "outputs": [
    {
     "name": "stdout",
     "output_type": "stream",
     "text": [
      "Enter Name - yogesh\n",
      "Enter Last Name - lu \n",
      "Enter Age - 7829\n"
     ]
    }
   ],
   "source": [
    "enterDataInDB(\"Yogesh\",\"LU\",7829)"
   ]
  },
  {
   "cell_type": "code",
   "execution_count": 46,
   "metadata": {},
   "outputs": [
    {
     "name": "stdout",
     "output_type": "stream",
     "text": [
      "Enter Name - tejas\n",
      "Enter Last Name - lu\n",
      "Enter Age - 17\n"
     ]
    }
   ],
   "source": [
    "enterDataInDB(\"Tejas\",\"LU\",17)"
   ]
  },
  {
   "cell_type": "code",
   "execution_count": 47,
   "metadata": {},
   "outputs": [
    {
     "name": "stdout",
     "output_type": "stream",
     "text": [
      "Enter Name - trith\n",
      "Enter Last Name - shah\n",
      "Enter Age - 17\n"
     ]
    }
   ],
   "source": [
    "enterDataInDB(\"Trith\",\"Shah\",17)"
   ]
  },
  {
   "cell_type": "code",
   "execution_count": 48,
   "metadata": {},
   "outputs": [
    {
     "name": "stdout",
     "output_type": "stream",
     "text": [
      "Enter Name - kairav\n",
      "Enter Last Name - singh lu\n",
      "Enter Age - 17\n"
     ]
    }
   ],
   "source": [
    "enterDataInDB(\"kairav\",\"Singh LU\",17)"
   ]
  },
  {
   "cell_type": "code",
   "execution_count": 49,
   "metadata": {},
   "outputs": [
    {
     "name": "stdout",
     "output_type": "stream",
     "text": [
      "Enter Name - saikiran\n",
      "Enter Last Name - letsupgrade\n",
      "Enter Age - 50\n"
     ]
    }
   ],
   "source": [
    "enterDataInDB(\"Saikiran\",\"LetsUpgrade\",50)"
   ]
  },
  {
   "cell_type": "code",
   "execution_count": 50,
   "metadata": {},
   "outputs": [
    {
     "name": "stdout",
     "output_type": "stream",
     "text": [
      "Enter Name - mangalesh\n",
      "Enter Last Name - kumar lu\n",
      "Enter Age - 23\n"
     ]
    }
   ],
   "source": [
    "enterDataInDB(\"manglesh\",\"Kumar LU\",23)"
   ]
  },
  {
   "cell_type": "code",
   "execution_count": 61,
   "metadata": {},
   "outputs": [
    {
     "name": "stdout",
     "output_type": "stream",
     "text": [
      "ID -  4qw2i2UtMAGLMDxPlG8L\n",
      "First Name -  saikiran\n",
      "Last Name -  letsupgrade\n",
      "Age -  50\n",
      "---------------\n",
      "---------------\n",
      "ID -  EVb1kuqGmDtjIBqmH7eV\n",
      "First Name -  mangalesh\n",
      "Last Name -  kumar lu\n",
      "Age -  23\n",
      "---------------\n",
      "---------------\n",
      "ID -  PD7tGupM1tBrEUNrJ53H\n",
      "First Name -  trith\n",
      "Last Name -  shah\n",
      "Age -  17\n",
      "---------------\n",
      "---------------\n",
      "ID -  QPwK1l9GFYh6jaewMk3Z\n",
      "First Name -  kairav\n",
      "Last Name -  singh lu\n",
      "Age -  17\n",
      "---------------\n",
      "---------------\n",
      "ID -  VsyJXXwCnevMP5r23wkj\n",
      "First Name -  sai \n",
      "Last Name -  lu \n",
      "Age -  90\n",
      "---------------\n",
      "---------------\n",
      "ID -  abc\n",
      "First Name -  sai \n",
      "Last Name -  lu \n",
      "Age -  90\n",
      "---------------\n",
      "---------------\n",
      "ID -  x2MwgN3LjEOyaBMRn1YK\n",
      "First Name -  yogesh\n",
      "Last Name -  lu \n",
      "Age -  7829\n",
      "---------------\n",
      "---------------\n",
      "ID -  xd4wyqKpoOs5P66NCJM6\n",
      "First Name -  tejas\n",
      "Last Name -  lu\n",
      "Age -  17\n",
      "---------------\n",
      "---------------\n",
      "ID -  yM2tsuZV7ECt8TuUfIOx\n",
      "First Name -  sai\n",
      "Last Name -  lu\n",
      "Age -  90\n",
      "---------------\n",
      "---------------\n"
     ]
    }
   ],
   "source": [
    "docs = db.collection(u'LetsUpgradeUsers').stream()\n",
    "\n",
    "for doc in docs:\n",
    "#     print(f'{doc.id} => {doc.to_dict()}')\n",
    "    \n",
    "    print(\"ID - \", doc.id)\n",
    "    \n",
    "    print(\"First Name - \", doc.to_dict().get(\"firstName\"))\n",
    "    print(\"Last Name - \", doc.to_dict().get(\"lastName\"))\n",
    "    print(\"Age - \", doc.to_dict().get(\"age\") )\n",
    "    \n",
    "    print(\"---------------\")\n",
    "    print(\"---------------\")\n",
    "    "
   ]
  },
  {
   "cell_type": "code",
   "execution_count": 63,
   "metadata": {},
   "outputs": [],
   "source": [
    "def updateDatainFirebase(uid, updatedAge):\n",
    "    doc_ref = db.collection(u'LetsUpgradeUsers').document(uid)\n",
    "    \n",
    "    doc_ref.update({\"age\":updatedAge})"
   ]
  },
  {
   "cell_type": "code",
   "execution_count": 66,
   "metadata": {},
   "outputs": [],
   "source": [
    "updateDatainFirebase(\"EVb1kuqGmDtjIBqmH7eV\",26)"
   ]
  },
  {
   "cell_type": "code",
   "execution_count": 67,
   "metadata": {},
   "outputs": [],
   "source": [
    "updateDatainFirebase(\"yM2tsuZV7ECt8TuUfIOx\",17)"
   ]
  },
  {
   "cell_type": "code",
   "execution_count": 68,
   "metadata": {},
   "outputs": [],
   "source": [
    "def deleteDataInFirebase(uid):\n",
    "    db.collection(u'LetsUpgradeUsers').document(uid).delete()"
   ]
  },
  {
   "cell_type": "code",
   "execution_count": 69,
   "metadata": {},
   "outputs": [],
   "source": [
    "deleteDataInFirebase(\"yM2tsuZV7ECt8TuUfIOx\")"
   ]
  },
  {
   "cell_type": "code",
   "execution_count": 70,
   "metadata": {},
   "outputs": [],
   "source": [
    "deleteDataInFirebase(\"VsyJXXwCnevMP5r23wkj\")"
   ]
  }
 ],
 "metadata": {
  "kernelspec": {
   "display_name": "Python 3",
   "language": "python",
   "name": "python3"
  },
  "language_info": {
   "codemirror_mode": {
    "name": "ipython",
    "version": 3
   },
   "file_extension": ".py",
   "mimetype": "text/x-python",
   "name": "python",
   "nbconvert_exporter": "python",
   "pygments_lexer": "ipython3",
   "version": "3.7.6"
  }
 },
 "nbformat": 4,
 "nbformat_minor": 2
}
